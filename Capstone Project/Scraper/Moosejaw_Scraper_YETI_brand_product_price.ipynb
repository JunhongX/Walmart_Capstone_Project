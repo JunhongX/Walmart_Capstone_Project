{
 "cells": [
  {
   "cell_type": "markdown",
   "metadata": {
    "colab_type": "text",
    "id": "E2XB_l-Hgzq_"
   },
   "source": [
    "# Scraping Moosejaw with Selenium 2019"
   ]
  },
  {
   "cell_type": "markdown",
   "metadata": {
    "colab_type": "text",
    "id": "Fjad5jsr9YaM"
   },
   "source": [
    "## Step 1: import the libraries "
   ]
  },
  {
   "cell_type": "code",
   "execution_count": 124,
   "metadata": {
    "colab": {},
    "colab_type": "code",
    "id": "9S4CiOh3RzFW"
   },
   "outputs": [],
   "source": [
    "import csv\n",
    "import time\n",
    "from selenium import webdriver\n",
    "from selenium.common.exceptions import NoSuchElementException\n",
    "import numpy as np\n",
    "import pandas as pd\n",
    "from selenium.webdriver.common.by import By\n",
    "from selenium.webdriver.support.ui import WebDriverWait\n",
    "from selenium.webdriver.support import expected_conditions as EC"
   ]
  },
  {
   "cell_type": "markdown",
   "metadata": {
    "colab_type": "text",
    "id": "oRQd4-v0nQqH"
   },
   "source": [
    "## Step 2: load the web driver and the page"
   ]
  },
  {
   "cell_type": "code",
   "execution_count": 125,
   "metadata": {
    "colab": {},
    "colab_type": "code",
    "id": "iCi2oSdInRkC"
   },
   "outputs": [],
   "source": [
    "# import the webdriver, chrome driver is recommended\n",
    "#https://sites.google.com/a/chromium.org/chromedriver/downloads\n",
    "driver = webdriver.Chrome(\"/Users/junho/Google Drive/Capstone Project/Scraper/chromedriver\")\n",
    "\n",
    "# insert the Moosejaw's website of one brand \n",
    "driver.get(\"https://www.moosejaw.com/search/yeti\")"
   ]
  },
  {
   "cell_type": "code",
   "execution_count": 126,
   "metadata": {
    "colab": {},
    "colab_type": "code",
    "id": "18nn6eW_s-fV"
   },
   "outputs": [],
   "source": [
    "# function to check if the button is on the page, to avoid miss-click problem\n",
    "def check_exists_by_xpath(xpath):\n",
    "    try:\n",
    "        driver.find_element_by_xpath(xpath)\n",
    "    except NoSuchElementException:\n",
    "        return False\n",
    "    return True"
   ]
  },
  {
   "cell_type": "markdown",
   "metadata": {
    "colab_type": "text",
    "id": "qJKk_7JI-MtW"
   },
   "source": [
    "## Step3: save brand, item names and price"
   ]
  },
  {
   "cell_type": "code",
   "execution_count": 127,
   "metadata": {},
   "outputs": [],
   "source": [
    "driver.find_element_by_class_name('close-button').click()\n",
    "time.sleep(5)"
   ]
  },
  {
   "cell_type": "code",
   "execution_count": 128,
   "metadata": {},
   "outputs": [],
   "source": [
    "# click view all\n",
    "driver.find_element_by_link_text('View All').click()\n",
    "time.sleep(5)"
   ]
  },
  {
   "cell_type": "code",
   "execution_count": 129,
   "metadata": {},
   "outputs": [],
   "source": [
    "container = driver.find_elements_by_class_name('prod-item')"
   ]
  },
  {
   "cell_type": "code",
   "execution_count": 130,
   "metadata": {},
   "outputs": [],
   "source": [
    "#number of items that belongs to a brand\n",
    "num_items = len(container)"
   ]
  },
  {
   "cell_type": "code",
   "execution_count": 131,
   "metadata": {},
   "outputs": [
    {
     "data": {
      "text/plain": [
       "82"
      ]
     },
     "execution_count": 131,
     "metadata": {},
     "output_type": "execute_result"
    }
   ],
   "source": [
    "num_items"
   ]
  },
  {
   "cell_type": "code",
   "execution_count": 149,
   "metadata": {},
   "outputs": [],
   "source": [
    "product_list = []\n",
    "for j in range(num_items):\n",
    "    string = container[j].find_element_by_tag_name('h3').text\n",
    "    brand_name = string.split(\"\\n\\n\")[0]\n",
    "    product_name = string.split(\"\\n\\n\")[-1]\n",
    "    product_price = container[j].find_element_by_class_name('price-inner').text\n",
    "    product_list.append([brand_name,product_name,product_price])"
   ]
  },
  {
   "cell_type": "code",
   "execution_count": 150,
   "metadata": {},
   "outputs": [],
   "source": [
    "df_brand_product = pd.DataFrame(product_list, columns = ['brand','product','price'])"
   ]
  },
  {
   "cell_type": "code",
   "execution_count": 153,
   "metadata": {},
   "outputs": [
    {
     "data": {
      "text/html": [
       "<div>\n",
       "<style scoped>\n",
       "    .dataframe tbody tr th:only-of-type {\n",
       "        vertical-align: middle;\n",
       "    }\n",
       "\n",
       "    .dataframe tbody tr th {\n",
       "        vertical-align: top;\n",
       "    }\n",
       "\n",
       "    .dataframe thead th {\n",
       "        text-align: right;\n",
       "    }\n",
       "</style>\n",
       "<table border=\"1\" class=\"dataframe\">\n",
       "  <thead>\n",
       "    <tr style=\"text-align: right;\">\n",
       "      <th></th>\n",
       "      <th>brand</th>\n",
       "      <th>product</th>\n",
       "      <th>price</th>\n",
       "    </tr>\n",
       "  </thead>\n",
       "  <tbody>\n",
       "    <tr>\n",
       "      <th>0</th>\n",
       "      <td>YETI</td>\n",
       "      <td>Tundra Haul Cooler</td>\n",
       "      <td>$399.99</td>\n",
       "    </tr>\n",
       "    <tr>\n",
       "      <th>1</th>\n",
       "      <td>YETI</td>\n",
       "      <td>Roadie 20 Cooler</td>\n",
       "      <td>$199.99</td>\n",
       "    </tr>\n",
       "    <tr>\n",
       "      <th>2</th>\n",
       "      <td>YETI</td>\n",
       "      <td>Hopper M30</td>\n",
       "      <td>$299.99</td>\n",
       "    </tr>\n",
       "    <tr>\n",
       "      <th>3</th>\n",
       "      <td>YETI</td>\n",
       "      <td>Hopper BackFlip 24 Cooler</td>\n",
       "      <td>$299.99</td>\n",
       "    </tr>\n",
       "    <tr>\n",
       "      <th>4</th>\n",
       "      <td>YETI</td>\n",
       "      <td>Hopper Flip 12 Cooler with Top Handle</td>\n",
       "      <td>$249.99</td>\n",
       "    </tr>\n",
       "  </tbody>\n",
       "</table>\n",
       "</div>"
      ],
      "text/plain": [
       "  brand                                product    price\n",
       "0  YETI                     Tundra Haul Cooler  $399.99\n",
       "1  YETI                       Roadie 20 Cooler  $199.99\n",
       "2  YETI                             Hopper M30  $299.99\n",
       "3  YETI              Hopper BackFlip 24 Cooler  $299.99\n",
       "4  YETI  Hopper Flip 12 Cooler with Top Handle  $249.99"
      ]
     },
     "execution_count": 153,
     "metadata": {},
     "output_type": "execute_result"
    }
   ],
   "source": [
    "df_brand_product.head()"
   ]
  },
  {
   "cell_type": "code",
   "execution_count": null,
   "metadata": {},
   "outputs": [],
   "source": []
  },
  {
   "cell_type": "markdown",
   "metadata": {},
   "source": [
    "# Code not used"
   ]
  },
  {
   "cell_type": "code",
   "execution_count": null,
   "metadata": {
    "colab": {},
    "colab_type": "code",
    "id": "8G1jg0cj9Duf"
   },
   "outputs": [],
   "source": [
    "%%time\n",
    "# change the value inside the range to save more or less reviews\n",
    "for i in range(0,100):\n",
    "    \n",
    "    if (check_exists_by_xpath(\"//span[@class='hotels-review-list-parts-ExpandableReview__cta--3U9OU']\")):\n",
    "        try:\n",
    "            wait = WebDriverWait(driver, 100)\n",
    "            element = wait.until(EC.element_to_be_clickable((By.XPATH, \"//span[@class='hotels-review-list-parts-ExpandableReview__cta--3U9OU']\")))\n",
    "            Create = driver.find_element_by_xpath(\"//span[@class='hotels-review-list-parts-ExpandableReview__cta--3U9OU']\")\n",
    "            Create.click()\n",
    "            time.sleep(5)\n",
    "        except Exception:\n",
    "            pass\n",
    "\n",
    "    \n",
    "    container = driver.find_elements_by_xpath(\"//div[@class='hotels-community-tab-common-Card__card--ihfZB hotels-community-tab-common-Card__section--4r93H']\")\n",
    "    \n",
    "    num_page_items = len(container);\n",
    "    \n",
    "    for j in range(num_page_items):\n",
    "        # to save the rating\n",
    "        string = container[j].find_element_by_xpath(\".//span[contains(@class, 'tWzdVpH_')]\").get_attribute(\"class\")\n",
    "        rating_code = string.split(\"_\")[-1]\n",
    "        rating_code = rating_code.strip()\n",
    "        if rating_code == 'dnQ8TT87':\n",
    "            rating = 5\n",
    "        elif rating_code == '7BtjwjjB':\n",
    "            rating = 4\n",
    "        elif rating_code == '17GUOtor':\n",
    "            rating = 3\n",
    "        elif rating_code == '1LNKWH49':\n",
    "            rating = 2\n",
    "        elif rating_code == '1Nb7S6iu':\n",
    "            rating = 1\n",
    "        review = container[j].find_element_by_xpath(\".//q[@class='hotels-review-list-parts-ExpandableReview__reviewText--3oMkH']\").text.replace(\"\\n\", \"\")\n",
    "        title = container[j].find_element_by_xpath(\".//a[contains(@class, 'hotels-review-list-parts-ReviewTitle__reviewTitleText--3QrTy')]\").text.replace(\"\\n\", \"\")\n",
    "        data.append([rating,title,review])\n",
    "    # to change the page\n",
    "    driver.find_element_by_xpath('//a[@class=\"ui_button nav next primary \"]').click()\n",
    "    time.sleep(5)\n",
    "    \n",
    "driver.close()\n"
   ]
  },
  {
   "cell_type": "code",
   "execution_count": null,
   "metadata": {},
   "outputs": [],
   "source": [
    "df = pd.DataFrame(data, columns = ['rating','title','review'])"
   ]
  },
  {
   "cell_type": "code",
   "execution_count": null,
   "metadata": {},
   "outputs": [],
   "source": [
    "df"
   ]
  },
  {
   "cell_type": "code",
   "execution_count": null,
   "metadata": {},
   "outputs": [],
   "source": [
    "df.to_csv('The_Westin_Austin_Downtown_reviews.csv',index=False)"
   ]
  }
 ],
 "metadata": {
  "accelerator": "TPU",
  "colab": {
   "collapsed_sections": [],
   "name": "Italian Pre-training AlBERTo from scratch with cloud TPU",
   "provenance": [],
   "version": "0.3.2"
  },
  "kernelspec": {
   "display_name": "Python 3",
   "language": "python",
   "name": "python3"
  },
  "language_info": {
   "codemirror_mode": {
    "name": "ipython",
    "version": 3
   },
   "file_extension": ".py",
   "mimetype": "text/x-python",
   "name": "python",
   "nbconvert_exporter": "python",
   "pygments_lexer": "ipython3",
   "version": "3.7.3"
  }
 },
 "nbformat": 4,
 "nbformat_minor": 1
}
