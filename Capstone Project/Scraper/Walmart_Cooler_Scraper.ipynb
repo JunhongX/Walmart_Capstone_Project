{
 "cells": [
  {
   "cell_type": "markdown",
   "metadata": {
    "colab_type": "text",
    "id": "E2XB_l-Hgzq_"
   },
   "source": [
    "# Scraping Walmart Coolers with Selenium 2019"
   ]
  },
  {
   "cell_type": "markdown",
   "metadata": {
    "colab_type": "text",
    "id": "Fjad5jsr9YaM"
   },
   "source": [
    "## Step 1: import the libraries "
   ]
  },
  {
   "cell_type": "code",
   "execution_count": 202,
   "metadata": {
    "colab": {},
    "colab_type": "code",
    "id": "9S4CiOh3RzFW"
   },
   "outputs": [],
   "source": [
    "import csv\n",
    "import time\n",
    "from selenium import webdriver\n",
    "from selenium.common.exceptions import NoSuchElementException\n",
    "import numpy as np\n",
    "import pandas as pd\n",
    "from selenium.webdriver.common.by import By\n",
    "from selenium.webdriver.support.ui import WebDriverWait\n",
    "from selenium.webdriver.support import expected_conditions as EC\n",
    "import re"
   ]
  },
  {
   "cell_type": "markdown",
   "metadata": {
    "colab_type": "text",
    "id": "oRQd4-v0nQqH"
   },
   "source": [
    "## Step 2: load the web driver and the page"
   ]
  },
  {
   "cell_type": "code",
   "execution_count": 203,
   "metadata": {
    "colab": {},
    "colab_type": "code",
    "id": "iCi2oSdInRkC"
   },
   "outputs": [],
   "source": [
    "# import the webdriver, chrome driver is recommended\n",
    "#https://sites.google.com/a/chromium.org/chromedriver/downloads\n",
    "#driver = webdriver.Chrome(\"/Users/junho/Google Drive/Capstone Project/Scraper/chromedriver\")\n",
    "driver = webdriver.Chrome(\"/Users/junhong/Google Drive/Spring 2020/Capstone Project/Scraper/chromedriver2\")\n",
    "\n",
    "# insert Walmart cooler search results \n",
    "driver.get(\"https://www.walmart.com/search/?grid=false&query=cooler\")"
   ]
  },
  {
   "cell_type": "code",
   "execution_count": 204,
   "metadata": {
    "colab": {},
    "colab_type": "code",
    "id": "18nn6eW_s-fV"
   },
   "outputs": [],
   "source": [
    "# function to check if the button is on the page, to avoid miss-click problem\n",
    "def check_exists_by_xpath(xpath):\n",
    "    try:\n",
    "        driver.find_element_by_xpath(xpath)\n",
    "    except NoSuchElementException:\n",
    "        return False\n",
    "    return True"
   ]
  },
  {
   "cell_type": "markdown",
   "metadata": {
    "colab_type": "text",
    "id": "qJKk_7JI-MtW"
   },
   "source": [
    "## Step3: save brand, item names and price"
   ]
  },
  {
   "cell_type": "code",
   "execution_count": 161,
   "metadata": {},
   "outputs": [],
   "source": [
    "#get price\n",
    "#driver.find_element_by_xpath('//*[@id=\"searchProductResult\"]/div/div[1]/div/div/div[2]/div[2]/div[2]/span/span').text\n",
    "#container[0].find_element_by_class_name('search-result-product-rating').text\n",
    "#container[4].find_element_by_class_name('prod-desc-priceUI-1').text\n",
    "#container[0].find_element_by_class_name('search-result-product-rating').text\n",
    "#num_ratings = container[4].find_element_by_class_name('search-result-product-rating').text\n",
    "#num_ratings"
   ]
  },
  {
   "cell_type": "code",
   "execution_count": 206,
   "metadata": {},
   "outputs": [
    {
     "ename": "NoSuchElementException",
     "evalue": "Message: no such element: Unable to locate element: {\"method\":\"xpath\",\"selector\":\"//*[@id=\"mainSearchContent\"]/div[3]/div[2]/button[2]\"}\n  (Session info: chrome=78.0.3904.108)\n",
     "output_type": "error",
     "traceback": [
      "\u001b[1;31m---------------------------------------------------------------------------\u001b[0m",
      "\u001b[1;31mNoSuchElementException\u001b[0m                    Traceback (most recent call last)",
      "\u001b[1;32m<timed exec>\u001b[0m in \u001b[0;36m<module>\u001b[1;34m\u001b[0m\n",
      "\u001b[1;32m~\\Anaconda3\\lib\\site-packages\\selenium\\webdriver\\remote\\webdriver.py\u001b[0m in \u001b[0;36mfind_element_by_xpath\u001b[1;34m(self, xpath)\u001b[0m\n\u001b[0;32m    392\u001b[0m             \u001b[0melement\u001b[0m \u001b[1;33m=\u001b[0m \u001b[0mdriver\u001b[0m\u001b[1;33m.\u001b[0m\u001b[0mfind_element_by_xpath\u001b[0m\u001b[1;33m(\u001b[0m\u001b[1;34m'//div/td[1]'\u001b[0m\u001b[1;33m)\u001b[0m\u001b[1;33m\u001b[0m\u001b[1;33m\u001b[0m\u001b[0m\n\u001b[0;32m    393\u001b[0m         \"\"\"\n\u001b[1;32m--> 394\u001b[1;33m         \u001b[1;32mreturn\u001b[0m \u001b[0mself\u001b[0m\u001b[1;33m.\u001b[0m\u001b[0mfind_element\u001b[0m\u001b[1;33m(\u001b[0m\u001b[0mby\u001b[0m\u001b[1;33m=\u001b[0m\u001b[0mBy\u001b[0m\u001b[1;33m.\u001b[0m\u001b[0mXPATH\u001b[0m\u001b[1;33m,\u001b[0m \u001b[0mvalue\u001b[0m\u001b[1;33m=\u001b[0m\u001b[0mxpath\u001b[0m\u001b[1;33m)\u001b[0m\u001b[1;33m\u001b[0m\u001b[1;33m\u001b[0m\u001b[0m\n\u001b[0m\u001b[0;32m    395\u001b[0m \u001b[1;33m\u001b[0m\u001b[0m\n\u001b[0;32m    396\u001b[0m     \u001b[1;32mdef\u001b[0m \u001b[0mfind_elements_by_xpath\u001b[0m\u001b[1;33m(\u001b[0m\u001b[0mself\u001b[0m\u001b[1;33m,\u001b[0m \u001b[0mxpath\u001b[0m\u001b[1;33m)\u001b[0m\u001b[1;33m:\u001b[0m\u001b[1;33m\u001b[0m\u001b[1;33m\u001b[0m\u001b[0m\n",
      "\u001b[1;32m~\\Anaconda3\\lib\\site-packages\\selenium\\webdriver\\remote\\webdriver.py\u001b[0m in \u001b[0;36mfind_element\u001b[1;34m(self, by, value)\u001b[0m\n\u001b[0;32m    976\u001b[0m         return self.execute(Command.FIND_ELEMENT, {\n\u001b[0;32m    977\u001b[0m             \u001b[1;34m'using'\u001b[0m\u001b[1;33m:\u001b[0m \u001b[0mby\u001b[0m\u001b[1;33m,\u001b[0m\u001b[1;33m\u001b[0m\u001b[1;33m\u001b[0m\u001b[0m\n\u001b[1;32m--> 978\u001b[1;33m             'value': value})['value']\n\u001b[0m\u001b[0;32m    979\u001b[0m \u001b[1;33m\u001b[0m\u001b[0m\n\u001b[0;32m    980\u001b[0m     \u001b[1;32mdef\u001b[0m \u001b[0mfind_elements\u001b[0m\u001b[1;33m(\u001b[0m\u001b[0mself\u001b[0m\u001b[1;33m,\u001b[0m \u001b[0mby\u001b[0m\u001b[1;33m=\u001b[0m\u001b[0mBy\u001b[0m\u001b[1;33m.\u001b[0m\u001b[0mID\u001b[0m\u001b[1;33m,\u001b[0m \u001b[0mvalue\u001b[0m\u001b[1;33m=\u001b[0m\u001b[1;32mNone\u001b[0m\u001b[1;33m)\u001b[0m\u001b[1;33m:\u001b[0m\u001b[1;33m\u001b[0m\u001b[1;33m\u001b[0m\u001b[0m\n",
      "\u001b[1;32m~\\Anaconda3\\lib\\site-packages\\selenium\\webdriver\\remote\\webdriver.py\u001b[0m in \u001b[0;36mexecute\u001b[1;34m(self, driver_command, params)\u001b[0m\n\u001b[0;32m    319\u001b[0m         \u001b[0mresponse\u001b[0m \u001b[1;33m=\u001b[0m \u001b[0mself\u001b[0m\u001b[1;33m.\u001b[0m\u001b[0mcommand_executor\u001b[0m\u001b[1;33m.\u001b[0m\u001b[0mexecute\u001b[0m\u001b[1;33m(\u001b[0m\u001b[0mdriver_command\u001b[0m\u001b[1;33m,\u001b[0m \u001b[0mparams\u001b[0m\u001b[1;33m)\u001b[0m\u001b[1;33m\u001b[0m\u001b[1;33m\u001b[0m\u001b[0m\n\u001b[0;32m    320\u001b[0m         \u001b[1;32mif\u001b[0m \u001b[0mresponse\u001b[0m\u001b[1;33m:\u001b[0m\u001b[1;33m\u001b[0m\u001b[1;33m\u001b[0m\u001b[0m\n\u001b[1;32m--> 321\u001b[1;33m             \u001b[0mself\u001b[0m\u001b[1;33m.\u001b[0m\u001b[0merror_handler\u001b[0m\u001b[1;33m.\u001b[0m\u001b[0mcheck_response\u001b[0m\u001b[1;33m(\u001b[0m\u001b[0mresponse\u001b[0m\u001b[1;33m)\u001b[0m\u001b[1;33m\u001b[0m\u001b[1;33m\u001b[0m\u001b[0m\n\u001b[0m\u001b[0;32m    322\u001b[0m             response['value'] = self._unwrap_value(\n\u001b[0;32m    323\u001b[0m                 response.get('value', None))\n",
      "\u001b[1;32m~\\Anaconda3\\lib\\site-packages\\selenium\\webdriver\\remote\\errorhandler.py\u001b[0m in \u001b[0;36mcheck_response\u001b[1;34m(self, response)\u001b[0m\n\u001b[0;32m    240\u001b[0m                 \u001b[0malert_text\u001b[0m \u001b[1;33m=\u001b[0m \u001b[0mvalue\u001b[0m\u001b[1;33m[\u001b[0m\u001b[1;34m'alert'\u001b[0m\u001b[1;33m]\u001b[0m\u001b[1;33m.\u001b[0m\u001b[0mget\u001b[0m\u001b[1;33m(\u001b[0m\u001b[1;34m'text'\u001b[0m\u001b[1;33m)\u001b[0m\u001b[1;33m\u001b[0m\u001b[1;33m\u001b[0m\u001b[0m\n\u001b[0;32m    241\u001b[0m             \u001b[1;32mraise\u001b[0m \u001b[0mexception_class\u001b[0m\u001b[1;33m(\u001b[0m\u001b[0mmessage\u001b[0m\u001b[1;33m,\u001b[0m \u001b[0mscreen\u001b[0m\u001b[1;33m,\u001b[0m \u001b[0mstacktrace\u001b[0m\u001b[1;33m,\u001b[0m \u001b[0malert_text\u001b[0m\u001b[1;33m)\u001b[0m\u001b[1;33m\u001b[0m\u001b[1;33m\u001b[0m\u001b[0m\n\u001b[1;32m--> 242\u001b[1;33m         \u001b[1;32mraise\u001b[0m \u001b[0mexception_class\u001b[0m\u001b[1;33m(\u001b[0m\u001b[0mmessage\u001b[0m\u001b[1;33m,\u001b[0m \u001b[0mscreen\u001b[0m\u001b[1;33m,\u001b[0m \u001b[0mstacktrace\u001b[0m\u001b[1;33m)\u001b[0m\u001b[1;33m\u001b[0m\u001b[1;33m\u001b[0m\u001b[0m\n\u001b[0m\u001b[0;32m    243\u001b[0m \u001b[1;33m\u001b[0m\u001b[0m\n\u001b[0;32m    244\u001b[0m     \u001b[1;32mdef\u001b[0m \u001b[0m_value_or_default\u001b[0m\u001b[1;33m(\u001b[0m\u001b[0mself\u001b[0m\u001b[1;33m,\u001b[0m \u001b[0mobj\u001b[0m\u001b[1;33m,\u001b[0m \u001b[0mkey\u001b[0m\u001b[1;33m,\u001b[0m \u001b[0mdefault\u001b[0m\u001b[1;33m)\u001b[0m\u001b[1;33m:\u001b[0m\u001b[1;33m\u001b[0m\u001b[1;33m\u001b[0m\u001b[0m\n",
      "\u001b[1;31mNoSuchElementException\u001b[0m: Message: no such element: Unable to locate element: {\"method\":\"xpath\",\"selector\":\"//*[@id=\"mainSearchContent\"]/div[3]/div[2]/button[2]\"}\n  (Session info: chrome=78.0.3904.108)\n"
     ]
    }
   ],
   "source": [
    "%%time\n",
    "product_list = []\n",
    "#Get number of item pages\n",
    "num_page = int(driver.find_element_by_xpath('//*[@id=\"mainSearchContent\"]/div[3]/div[2]/ul/li[8]/a').text)\n",
    "for i in range(num_page):    \n",
    "    container = driver.find_elements_by_class_name('search-result-listview-item.Grid')\n",
    "    #This will get number of items in a page\n",
    "    num_items = len(container)\n",
    "    for j in range(num_items):\n",
    "        container = driver.find_elements_by_class_name('search-result-listview-item.Grid')\n",
    "        product_name = container[j].find_element_by_class_name('search-result-product-title.listview').text.split(\"\\n\")[1]\n",
    "        \n",
    "        #Get price, sometimes price is not avaliable so we have empty string instead\n",
    "        try:\n",
    "            product_price_low = container[j].find_element_by_class_name('price-main-block').text.split(\"\\n\")[0]\n",
    "        except Exception:\n",
    "            product_price_low = ''\n",
    "        try:\n",
    "            product_price_high = container[j].find_element_by_class_name('price-main-block').text.split(\"\\n\")[-1]\n",
    "        except Exception:\n",
    "            product_price_high = ''\n",
    "        product_num_rating = container[j].find_element_by_class_name('search-result-product-rating').text\n",
    "        product_num_rating = re.findall(r'.+on(\\d+)rev.+',product_num_rating)[0]\n",
    "        product_rating = container[j].find_element_by_class_name('search-result-product-rating').text\n",
    "        product_rating = re.findall(r'.+:(.+)out.+',product_rating)[0] \n",
    "        \n",
    "        #Sometimes there is no description\n",
    "        try:\n",
    "            product_description = container[j].find_element_by_class_name('prod-desc-priceUI-1').text\n",
    "        except Exception:\n",
    "            product_description = ''\n",
    "        #Append all information to a list\n",
    "        product_list.append([product_name,product_price_low,product_price_high,product_num_rating, product_rating, product_description])\n",
    "    \n",
    "    #the \"next page\" button has a different XPath on first page\n",
    "    if i == 0:\n",
    "        driver.find_element_by_xpath('//*[@id=\"mainSearchContent\"]/div[3]/div[2]/button').click()\n",
    "        time.sleep(10)\n",
    "    else if i != num_page-1:\n",
    "        driver.find_element_by_xpath('//*[@id=\"mainSearchContent\"]/div[3]/div[2]/button[2]').click()\n",
    "        time.sleep(10)\n",
    "    else:\n",
    "        pass"
   ]
  },
  {
   "cell_type": "code",
   "execution_count": 207,
   "metadata": {},
   "outputs": [],
   "source": [
    "df = pd.DataFrame(product_list, columns = ['name','price_low','price_high','rating_num','rating','description'])"
   ]
  },
  {
   "cell_type": "code",
   "execution_count": 208,
   "metadata": {},
   "outputs": [
    {
     "data": {
      "text/html": [
       "<div>\n",
       "<style scoped>\n",
       "    .dataframe tbody tr th:only-of-type {\n",
       "        vertical-align: middle;\n",
       "    }\n",
       "\n",
       "    .dataframe tbody tr th {\n",
       "        vertical-align: top;\n",
       "    }\n",
       "\n",
       "    .dataframe thead th {\n",
       "        text-align: right;\n",
       "    }\n",
       "</style>\n",
       "<table border=\"1\" class=\"dataframe\">\n",
       "  <thead>\n",
       "    <tr style=\"text-align: right;\">\n",
       "      <th></th>\n",
       "      <th>name</th>\n",
       "      <th>price_low</th>\n",
       "      <th>price_high</th>\n",
       "      <th>rating_num</th>\n",
       "      <th>rating</th>\n",
       "      <th>description</th>\n",
       "    </tr>\n",
       "  </thead>\n",
       "  <tbody>\n",
       "    <tr>\n",
       "      <td>0</td>\n",
       "      <td>Coleman 50-Quart Marine Cooler</td>\n",
       "      <td>$30.99</td>\n",
       "      <td>$30.99</td>\n",
       "      <td>39</td>\n",
       "      <td>3.8</td>\n",
       "      <td>The Coleman Xtreme Marine 50-Quart Cooler feat...</td>\n",
       "    </tr>\n",
       "    <tr>\n",
       "      <td>1</td>\n",
       "      <td>Coleman 50Qt Xtreme Cooler</td>\n",
       "      <td>$24.99</td>\n",
       "      <td>$24.99</td>\n",
       "      <td>61</td>\n",
       "      <td>3.4</td>\n",
       "      <td>Keeps the Ice! up to 5 days at temperatures up...</td>\n",
       "    </tr>\n",
       "    <tr>\n",
       "      <td>2</td>\n",
       "      <td>Ozark Trail Premium 36 Can Cooler, White</td>\n",
       "      <td>$29.00</td>\n",
       "      <td>$49.95</td>\n",
       "      <td>114</td>\n",
       "      <td>2.6</td>\n",
       "      <td>Made from easy to clean 600D-coated material\\n...</td>\n",
       "    </tr>\n",
       "    <tr>\n",
       "      <td>3</td>\n",
       "      <td>Coleman 48 qt Inland Performance Series Marine...</td>\n",
       "      <td>$21.99</td>\n",
       "      <td>$21.99</td>\n",
       "      <td>27</td>\n",
       "      <td>4.4</td>\n",
       "      <td>UVGuard material\\nUp to 3 days at temperatures...</td>\n",
       "    </tr>\n",
       "    <tr>\n",
       "      <td>4</td>\n",
       "      <td>Ozark Trail 30 Can Leak Tight Cooler, Vector Camo</td>\n",
       "      <td>$29.00</td>\n",
       "      <td>$29.00</td>\n",
       "      <td>0</td>\n",
       "      <td>0</td>\n",
       "      <td></td>\n",
       "    </tr>\n",
       "    <tr>\n",
       "      <td>...</td>\n",
       "      <td>...</td>\n",
       "      <td>...</td>\n",
       "      <td>...</td>\n",
       "      <td>...</td>\n",
       "      <td>...</td>\n",
       "      <td>...</td>\n",
       "    </tr>\n",
       "    <tr>\n",
       "      <td>991</td>\n",
       "      <td>Inflatable Treasure Chest Cooler</td>\n",
       "      <td>$24.38</td>\n",
       "      <td>$24.38</td>\n",
       "      <td>4</td>\n",
       "      <td>1.8</td>\n",
       "      <td>Has look of a wooden chest with gold accents\\n...</td>\n",
       "    </tr>\n",
       "    <tr>\n",
       "      <td>992</td>\n",
       "      <td>Avalon Self Clean Bottleless Hot/Cold Water Co...</td>\n",
       "      <td>$203.08</td>\n",
       "      <td>$203.08</td>\n",
       "      <td>80</td>\n",
       "      <td>4.7</td>\n",
       "      <td>? Hot, cold, and room temperature water output...</td>\n",
       "    </tr>\n",
       "    <tr>\n",
       "      <td>993</td>\n",
       "      <td>IGLOO Legend 1/2 Gallon Jug</td>\n",
       "      <td>$7.99</td>\n",
       "      <td>$32.34</td>\n",
       "      <td>15</td>\n",
       "      <td>4.1</td>\n",
       "      <td>Ultratherm insulation provides extended ice re...</td>\n",
       "    </tr>\n",
       "    <tr>\n",
       "      <td>994</td>\n",
       "      <td>evaporative air cooler</td>\n",
       "      <td>$95.18</td>\n",
       "      <td>$95.18</td>\n",
       "      <td>45</td>\n",
       "      <td>3.2</td>\n",
       "      <td>evaporative air cooler</td>\n",
       "    </tr>\n",
       "    <tr>\n",
       "      <td>995</td>\n",
       "      <td>Monoprice Emperor Cooler - 25 Liters - White |...</td>\n",
       "      <td>$102.99</td>\n",
       "      <td>$102.99</td>\n",
       "      <td>0</td>\n",
       "      <td>0</td>\n",
       "      <td>Securely Sealed: Ordinary coolers are a magnet...</td>\n",
       "    </tr>\n",
       "  </tbody>\n",
       "</table>\n",
       "<p>996 rows × 6 columns</p>\n",
       "</div>"
      ],
      "text/plain": [
       "                                                  name price_low price_high  \\\n",
       "0                       Coleman 50-Quart Marine Cooler    $30.99     $30.99   \n",
       "1                           Coleman 50Qt Xtreme Cooler    $24.99     $24.99   \n",
       "2             Ozark Trail Premium 36 Can Cooler, White    $29.00     $49.95   \n",
       "3    Coleman 48 qt Inland Performance Series Marine...    $21.99     $21.99   \n",
       "4    Ozark Trail 30 Can Leak Tight Cooler, Vector Camo    $29.00     $29.00   \n",
       "..                                                 ...       ...        ...   \n",
       "991                   Inflatable Treasure Chest Cooler    $24.38     $24.38   \n",
       "992  Avalon Self Clean Bottleless Hot/Cold Water Co...   $203.08    $203.08   \n",
       "993                        IGLOO Legend 1/2 Gallon Jug     $7.99     $32.34   \n",
       "994                             evaporative air cooler    $95.18     $95.18   \n",
       "995  Monoprice Emperor Cooler - 25 Liters - White |...   $102.99    $102.99   \n",
       "\n",
       "    rating_num rating                                        description  \n",
       "0           39    3.8  The Coleman Xtreme Marine 50-Quart Cooler feat...  \n",
       "1           61    3.4  Keeps the Ice! up to 5 days at temperatures up...  \n",
       "2          114    2.6  Made from easy to clean 600D-coated material\\n...  \n",
       "3           27    4.4  UVGuard material\\nUp to 3 days at temperatures...  \n",
       "4            0      0                                                     \n",
       "..         ...    ...                                                ...  \n",
       "991          4    1.8  Has look of a wooden chest with gold accents\\n...  \n",
       "992         80    4.7  ? Hot, cold, and room temperature water output...  \n",
       "993         15    4.1  Ultratherm insulation provides extended ice re...  \n",
       "994         45    3.2                             evaporative air cooler  \n",
       "995          0      0  Securely Sealed: Ordinary coolers are a magnet...  \n",
       "\n",
       "[996 rows x 6 columns]"
      ]
     },
     "execution_count": 208,
     "metadata": {},
     "output_type": "execute_result"
    }
   ],
   "source": [
    "df"
   ]
  },
  {
   "cell_type": "code",
   "execution_count": 209,
   "metadata": {},
   "outputs": [],
   "source": [
    "driver.close()"
   ]
  },
  {
   "cell_type": "code",
   "execution_count": 210,
   "metadata": {},
   "outputs": [],
   "source": [
    "df.to_csv('Walmart_Cooler.csv',index=False)"
   ]
  },
  {
   "cell_type": "code",
   "execution_count": null,
   "metadata": {},
   "outputs": [],
   "source": []
  }
 ],
 "metadata": {
  "accelerator": "TPU",
  "colab": {
   "collapsed_sections": [],
   "name": "Italian Pre-training AlBERTo from scratch with cloud TPU",
   "provenance": [],
   "version": "0.3.2"
  },
  "kernelspec": {
   "display_name": "Python 3",
   "language": "python",
   "name": "python3"
  },
  "language_info": {
   "codemirror_mode": {
    "name": "ipython",
    "version": 3
   },
   "file_extension": ".py",
   "mimetype": "text/x-python",
   "name": "python",
   "nbconvert_exporter": "python",
   "pygments_lexer": "ipython3",
   "version": "3.7.4"
  }
 },
 "nbformat": 4,
 "nbformat_minor": 1
}
